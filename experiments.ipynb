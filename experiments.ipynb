{
 "cells": [
  {
   "cell_type": "code",
   "execution_count": 1,
   "metadata": {},
   "outputs": [],
   "source": [
    "%load_ext autoreload\n",
    "%autoreload 2"
   ]
  },
  {
   "cell_type": "code",
   "execution_count": 2,
   "metadata": {},
   "outputs": [],
   "source": [
    "import torch\n",
    "\n",
    "from dyck_k_generator import constants"
   ]
  },
  {
   "cell_type": "code",
   "execution_count": 3,
   "metadata": {},
   "outputs": [
    {
     "data": {
      "text/plain": [
       "'cuda:0'"
      ]
     },
     "execution_count": 3,
     "metadata": {},
     "output_type": "execute_result"
    }
   ],
   "source": [
    "device = \"cuda:0\" if torch.cuda.is_available() else \"mps\" if torch.backends.mps.is_available() else \"cpu\"\n",
    "device"
   ]
  },
  {
   "cell_type": "code",
   "execution_count": 4,
   "metadata": {},
   "outputs": [],
   "source": [
    "if device == \"mps\":\n",
    "    torch.mps.empty_cache()\n",
    "elif device == \"cuda:0\":\n",
    "    torch.cuda.empty_cache()"
   ]
  },
  {
   "cell_type": "code",
   "execution_count": 5,
   "metadata": {},
   "outputs": [],
   "source": [
    "k = 1"
   ]
  },
  {
   "cell_type": "code",
   "execution_count": 150,
   "metadata": {},
   "outputs": [
    {
     "name": "stderr",
     "output_type": "stream",
     "text": [
      "Generating balanced strings: 100%|██████████| 6000/6000 [00:00<00:00, 298580.10it/s]\n",
      "Generating unbalanced strings: 100%|██████████| 4000/4000 [00:00<00:00, 75801.82it/s]\n",
      "Saving dataset to data/dyck-1_10000-samples_10-len_p06.jsonl: 100%|██████████| 10000/10000 [00:00<00:00, 628548.48it/s]"
     ]
    },
    {
     "name": "stdout",
     "output_type": "stream",
     "text": [
      "Dataset saved to data/dyck-1_10000-samples_10-len_p06.jsonl\n"
     ]
    },
    {
     "name": "stderr",
     "output_type": "stream",
     "text": [
      "\n"
     ]
    }
   ],
   "source": [
    "from dyck_k_generator.generator import generate_dataset\n",
    "\n",
    "generate_dataset(\n",
    "    n=10_000,\n",
    "    k=k,\n",
    "    max_length=10,\n",
    "    balanced=0.6,\n",
    ")"
   ]
  },
  {
   "cell_type": "code",
   "execution_count": 151,
   "metadata": {},
   "outputs": [
    {
     "data": {
      "text/plain": [
       "'()'"
      ]
     },
     "execution_count": 151,
     "metadata": {},
     "output_type": "execute_result"
    }
   ],
   "source": [
    "VOCAB = \"\".join([\"\".join((key, value)) for key, value in list(constants.BRACKETS.items())[:k]])\n",
    "VOCAB"
   ]
  },
  {
   "cell_type": "code",
   "execution_count": 152,
   "metadata": {},
   "outputs": [],
   "source": [
    "from dataset.dataset import DyckLanguageDataset"
   ]
  },
  {
   "cell_type": "code",
   "execution_count": 153,
   "metadata": {},
   "outputs": [
    {
     "name": "stdout",
     "output_type": "stream",
     "text": [
      "Loaded 10000 samples from data/dyck-1_10000-samples_10-len_p06.jsonl\n"
     ]
    },
    {
     "name": "stderr",
     "output_type": "stream",
     "text": [
      "Tokenizing strings: 100%|██████████| 10000/10000 [00:00<00:00, 706706.66it/s]\n"
     ]
    }
   ],
   "source": [
    "dataset = DyckLanguageDataset(\"data/dyck-1_10000-samples_10-len_p06.jsonl\", VOCAB).to(device)"
   ]
  },
  {
   "cell_type": "code",
   "execution_count": 154,
   "metadata": {},
   "outputs": [],
   "source": [
    "from torch.utils.data import random_split\n",
    "\n",
    "train_size = int(0.8 * len(dataset))\n",
    "test_size = len(dataset) - train_size\n",
    "\n",
    "train_dataset, test_dataset = random_split(dataset, [train_size, test_size])"
   ]
  },
  {
   "cell_type": "code",
   "execution_count": 155,
   "metadata": {},
   "outputs": [],
   "source": [
    "from torch.utils.data import DataLoader"
   ]
  },
  {
   "cell_type": "code",
   "execution_count": 156,
   "metadata": {},
   "outputs": [],
   "source": [
    "dl = DataLoader(train_dataset, batch_size=64, shuffle=True)"
   ]
  },
  {
   "cell_type": "code",
   "execution_count": 157,
   "metadata": {},
   "outputs": [],
   "source": [
    "test_dl = DataLoader(test_dataset, batch_size=8, shuffle=True)"
   ]
  },
  {
   "cell_type": "markdown",
   "metadata": {},
   "source": [
    "# Manual Transformer + BERTViz\n"
   ]
  },
  {
   "cell_type": "code",
   "execution_count": 158,
   "metadata": {},
   "outputs": [],
   "source": [
    "from transformer.hooked_transformer import (\n",
    "    TransformerClassifier,\n",
    "    TransformerClassifierConfig,\n",
    "    pad_token_mask,\n",
    ")"
   ]
  },
  {
   "cell_type": "code",
   "execution_count": 161,
   "metadata": {},
   "outputs": [],
   "source": [
    "model_config = TransformerClassifierConfig(\n",
    "    vocab_size=len(VOCAB),\n",
    "    d_model=128,\n",
    "    n_heads=1,\n",
    "    dim_ff=256,\n",
    "    n_layers=1,\n",
    "    n_classes=2,\n",
    "    max_seq_len=10,\n",
    ")"
   ]
  },
  {
   "cell_type": "code",
   "execution_count": 162,
   "metadata": {},
   "outputs": [],
   "source": [
    "model = TransformerClassifier(model_config)"
   ]
  },
  {
   "cell_type": "code",
   "execution_count": 163,
   "metadata": {},
   "outputs": [
    {
     "data": {
      "text/plain": [
       "TransformerClassifier(\n",
       "  (embedding): Embedding(5, 128)\n",
       "  (pos_encoder): PositionalEncoder(\n",
       "    (dropout): Dropout(p=0.1, inplace=False)\n",
       "  )\n",
       "  (transformer): TransformerEncoder(\n",
       "    (layers): ModuleList(\n",
       "      (0): EncoderBlock(\n",
       "        (attn): MultiHeadAttention(\n",
       "          (q_linear): Linear(in_features=128, out_features=128, bias=True)\n",
       "          (k_linear): Linear(in_features=128, out_features=128, bias=True)\n",
       "          (v_linear): Linear(in_features=128, out_features=128, bias=True)\n",
       "          (attn_dropout): Dropout(p=0.1, inplace=False)\n",
       "          (residual_dropout): Dropout(p=0.1, inplace=False)\n",
       "          (attn): ScaledDotProductAttention()\n",
       "          (out): Linear(in_features=128, out_features=128, bias=True)\n",
       "        )\n",
       "        (ff): Sequential(\n",
       "          (0): Linear(in_features=128, out_features=256, bias=True)\n",
       "          (1): Dropout(p=0.1, inplace=False)\n",
       "          (2): ReLU(inplace=True)\n",
       "          (3): Linear(in_features=256, out_features=128, bias=True)\n",
       "        )\n",
       "        (ln1): LayerNorm((128,), eps=1e-05, elementwise_affine=True)\n",
       "        (ln2): LayerNorm((128,), eps=1e-05, elementwise_affine=True)\n",
       "        (dropout): Dropout(p=0.1, inplace=False)\n",
       "      )\n",
       "    )\n",
       "  )\n",
       "  (fc): Linear(in_features=128, out_features=2, bias=True)\n",
       ")"
      ]
     },
     "execution_count": 163,
     "metadata": {},
     "output_type": "execute_result"
    }
   ],
   "source": [
    "model.train()"
   ]
  },
  {
   "cell_type": "code",
   "execution_count": 164,
   "metadata": {},
   "outputs": [
    {
     "data": {
      "text/plain": [
       "TransformerClassifier(\n",
       "  (embedding): Embedding(5, 128)\n",
       "  (pos_encoder): PositionalEncoder(\n",
       "    (dropout): Dropout(p=0.1, inplace=False)\n",
       "  )\n",
       "  (transformer): TransformerEncoder(\n",
       "    (layers): ModuleList(\n",
       "      (0): EncoderBlock(\n",
       "        (attn): MultiHeadAttention(\n",
       "          (q_linear): Linear(in_features=128, out_features=128, bias=True)\n",
       "          (k_linear): Linear(in_features=128, out_features=128, bias=True)\n",
       "          (v_linear): Linear(in_features=128, out_features=128, bias=True)\n",
       "          (attn_dropout): Dropout(p=0.1, inplace=False)\n",
       "          (residual_dropout): Dropout(p=0.1, inplace=False)\n",
       "          (attn): ScaledDotProductAttention()\n",
       "          (out): Linear(in_features=128, out_features=128, bias=True)\n",
       "        )\n",
       "        (ff): Sequential(\n",
       "          (0): Linear(in_features=128, out_features=256, bias=True)\n",
       "          (1): Dropout(p=0.1, inplace=False)\n",
       "          (2): ReLU(inplace=True)\n",
       "          (3): Linear(in_features=256, out_features=128, bias=True)\n",
       "        )\n",
       "        (ln1): LayerNorm((128,), eps=1e-05, elementwise_affine=True)\n",
       "        (ln2): LayerNorm((128,), eps=1e-05, elementwise_affine=True)\n",
       "        (dropout): Dropout(p=0.1, inplace=False)\n",
       "      )\n",
       "    )\n",
       "  )\n",
       "  (fc): Linear(in_features=128, out_features=2, bias=True)\n",
       ")"
      ]
     },
     "execution_count": 164,
     "metadata": {},
     "output_type": "execute_result"
    }
   ],
   "source": [
    "model.to(device)"
   ]
  },
  {
   "cell_type": "code",
   "execution_count": 165,
   "metadata": {},
   "outputs": [],
   "source": [
    "import torch.optim as optim\n",
    "\n",
    "crit = torch.nn.CrossEntropyLoss()\n",
    "\n",
    "optimizer = optim.Adam(model.parameters(), lr=1e-4)"
   ]
  },
  {
   "cell_type": "code",
   "execution_count": 166,
   "metadata": {},
   "outputs": [],
   "source": [
    "from tqdm.auto import tqdm"
   ]
  },
  {
   "cell_type": "code",
   "execution_count": 168,
   "metadata": {},
   "outputs": [
    {
     "data": {
      "application/vnd.jupyter.widget-view+json": {
       "model_id": "51453ad4741542a194e880d382aa6ca8",
       "version_major": 2,
       "version_minor": 0
      },
      "text/plain": [
       "  0%|          | 0/125 [00:00<?, ?it/s]"
      ]
     },
     "metadata": {},
     "output_type": "display_data"
    },
    {
     "name": "stdout",
     "output_type": "stream",
     "text": [
      "Epoch: 1, Loss: 0.0003413776948582381, Accuracy: 100.0%\n"
     ]
    },
    {
     "data": {
      "application/vnd.jupyter.widget-view+json": {
       "model_id": "5695a712d121401a857e66b44fcf523e",
       "version_major": 2,
       "version_minor": 0
      },
      "text/plain": [
       "  0%|          | 0/125 [00:00<?, ?it/s]"
      ]
     },
     "metadata": {},
     "output_type": "display_data"
    },
    {
     "name": "stdout",
     "output_type": "stream",
     "text": [
      "Epoch: 2, Loss: 0.00018514813971705734, Accuracy: 100.0%\n"
     ]
    },
    {
     "data": {
      "application/vnd.jupyter.widget-view+json": {
       "model_id": "1ce6242c53044509a860c605e06d3aac",
       "version_major": 2,
       "version_minor": 0
      },
      "text/plain": [
       "  0%|          | 0/125 [00:00<?, ?it/s]"
      ]
     },
     "metadata": {},
     "output_type": "display_data"
    },
    {
     "name": "stdout",
     "output_type": "stream",
     "text": [
      "Epoch: 3, Loss: 0.00014131366639048794, Accuracy: 100.0%\n"
     ]
    },
    {
     "data": {
      "application/vnd.jupyter.widget-view+json": {
       "model_id": "ff17f18df9c047deb3aedd28851dc5ce",
       "version_major": 2,
       "version_minor": 0
      },
      "text/plain": [
       "  0%|          | 0/125 [00:00<?, ?it/s]"
      ]
     },
     "metadata": {},
     "output_type": "display_data"
    },
    {
     "name": "stdout",
     "output_type": "stream",
     "text": [
      "Epoch: 4, Loss: 0.00011980673727521207, Accuracy: 100.0%\n"
     ]
    },
    {
     "data": {
      "application/vnd.jupyter.widget-view+json": {
       "model_id": "eaf986d6e6044973abfc4e5ab741ecd9",
       "version_major": 2,
       "version_minor": 0
      },
      "text/plain": [
       "  0%|          | 0/125 [00:00<?, ?it/s]"
      ]
     },
     "metadata": {},
     "output_type": "display_data"
    },
    {
     "name": "stdout",
     "output_type": "stream",
     "text": [
      "Epoch: 5, Loss: 0.00010578707995591686, Accuracy: 100.0%\n"
     ]
    }
   ],
   "source": [
    "epochs = 5\n",
    "\n",
    "for epoch in range(epochs):\n",
    "    running_loss = 0.0\n",
    "\n",
    "    total_correct = 0\n",
    "    total_samples = 0\n",
    "\n",
    "    for i, data in enumerate(tqdm(dl)):\n",
    "        _, labels, tokens = data\n",
    "        labels = labels.type(torch.LongTensor)\n",
    "        labels = labels.to(device)\n",
    "        tokens = tokens.to(device)\n",
    "\n",
    "        optimizer.zero_grad()\n",
    "\n",
    "        mask = pad_token_mask(tokens)\n",
    "\n",
    "        outputs = model(tokens, mask=mask)\n",
    "\n",
    "        loss = crit(outputs, labels)\n",
    "        loss.backward()\n",
    "        optimizer.step()\n",
    "\n",
    "        running_loss += loss.item()\n",
    "\n",
    "        _, predicted = outputs.max(1)\n",
    "\n",
    "        # Count correct predictions\n",
    "        total_correct += (predicted == labels).sum().item()\n",
    "        total_samples += labels.size(0)\n",
    "\n",
    "        # Calculate accuracy\n",
    "        accuracy = (total_correct / total_samples) * 100\n",
    "        # calculate accuracy\n",
    "        if i % 100 == 99:\n",
    "            print(f\"Epoch: {epoch + 1}, Loss: {running_loss / 100}, Accuracy: {accuracy}%\")\n",
    "            running_loss = 0.0"
   ]
  },
  {
   "cell_type": "code",
   "execution_count": 169,
   "metadata": {},
   "outputs": [
    {
     "data": {
      "text/plain": [
       "TransformerClassifier(\n",
       "  (embedding): Embedding(5, 128)\n",
       "  (pos_encoder): PositionalEncoder(\n",
       "    (dropout): Dropout(p=0.1, inplace=False)\n",
       "  )\n",
       "  (transformer): TransformerEncoder(\n",
       "    (layers): ModuleList(\n",
       "      (0): EncoderBlock(\n",
       "        (attn): MultiHeadAttention(\n",
       "          (q_linear): Linear(in_features=128, out_features=128, bias=True)\n",
       "          (k_linear): Linear(in_features=128, out_features=128, bias=True)\n",
       "          (v_linear): Linear(in_features=128, out_features=128, bias=True)\n",
       "          (attn_dropout): Dropout(p=0.1, inplace=False)\n",
       "          (residual_dropout): Dropout(p=0.1, inplace=False)\n",
       "          (attn): ScaledDotProductAttention()\n",
       "          (out): Linear(in_features=128, out_features=128, bias=True)\n",
       "        )\n",
       "        (ff): Sequential(\n",
       "          (0): Linear(in_features=128, out_features=256, bias=True)\n",
       "          (1): Dropout(p=0.1, inplace=False)\n",
       "          (2): ReLU(inplace=True)\n",
       "          (3): Linear(in_features=256, out_features=128, bias=True)\n",
       "        )\n",
       "        (ln1): LayerNorm((128,), eps=1e-05, elementwise_affine=True)\n",
       "        (ln2): LayerNorm((128,), eps=1e-05, elementwise_affine=True)\n",
       "        (dropout): Dropout(p=0.1, inplace=False)\n",
       "      )\n",
       "    )\n",
       "  )\n",
       "  (fc): Linear(in_features=128, out_features=2, bias=True)\n",
       ")"
      ]
     },
     "execution_count": 169,
     "metadata": {},
     "output_type": "execute_result"
    }
   ],
   "source": [
    "model.eval()"
   ]
  },
  {
   "cell_type": "code",
   "execution_count": 170,
   "metadata": {},
   "outputs": [
    {
     "data": {
      "application/vnd.jupyter.widget-view+json": {
       "model_id": "d35002ced9514352a57a4f2db16fc187",
       "version_major": 2,
       "version_minor": 0
      },
      "text/plain": [
       "  0%|          | 0/250 [00:00<?, ?it/s]"
      ]
     },
     "metadata": {},
     "output_type": "display_data"
    },
    {
     "name": "stdout",
     "output_type": "stream",
     "text": [
      "Accuracy of the model on the test data: 100.00%\n",
      "Average loss on the test data: 0.0000\n"
     ]
    }
   ],
   "source": [
    "correct = 0\n",
    "total = 0\n",
    "total_loss = 0\n",
    "\n",
    "criterion = torch.nn.CrossEntropyLoss()\n",
    "\n",
    "with torch.no_grad():  # Important to use torch.no_grad() to save memory and computations\n",
    "    for batch in tqdm(test_dl):\n",
    "        _, labels, tokens = batch\n",
    "        labels = labels.type(torch.LongTensor)\n",
    "        labels = labels.to(device)\n",
    "        tokens = tokens.to(device)\n",
    "\n",
    "        mask = pad_token_mask(tokens)\n",
    "        # Forward pass\n",
    "        outputs = model(tokens, mask=mask)\n",
    "\n",
    "        # Calculate loss\n",
    "        loss = criterion(outputs, labels)\n",
    "        total_loss += loss.item()\n",
    "\n",
    "        # Convert outputs probabilities to predicted class (0 or 1)\n",
    "        _, predicted = torch.max(outputs.data, 1)\n",
    "\n",
    "        # Count total and correct predictions\n",
    "        total += labels.size(0)\n",
    "        correct += (predicted == labels).sum().item()\n",
    "\n",
    "# Calculate average loss and accuracy\n",
    "avg_loss = total_loss / len(test_dl)\n",
    "accuracy = 100 * correct / total\n",
    "\n",
    "print(f\"Accuracy of the model on the test data: {accuracy:.2f}%\")\n",
    "print(f\"Average loss on the test data: {avg_loss:.4f}\")"
   ]
  },
  {
   "cell_type": "code",
   "execution_count": 290,
   "metadata": {},
   "outputs": [],
   "source": [
    "batch = next(iter(test_dl))\n",
    "strings, labels, tokens = batch\n",
    "\n",
    "mask = pad_token_mask(tokens)\n",
    "attn_matrices = model.get_attn_matrices(tokens, mask)"
   ]
  },
  {
   "cell_type": "code",
   "execution_count": 291,
   "metadata": {},
   "outputs": [
    {
     "name": "stdout",
     "output_type": "stream",
     "text": [
      "()()()()() tensor([0., 3., 4., 3., 4., 3., 4., 3., 4., 3., 4., 2.], device='cuda:0') tensor(1., device='cuda:0')\n"
     ]
    }
   ],
   "source": [
    "print(strings[0], tokens[0], labels[0])"
   ]
  },
  {
   "cell_type": "code",
   "execution_count": 292,
   "metadata": {},
   "outputs": [
    {
     "data": {
      "text/plain": [
       "torch.Size([8, 1, 12, 12])"
      ]
     },
     "execution_count": 292,
     "metadata": {},
     "output_type": "execute_result"
    }
   ],
   "source": [
    "attn_matrices[0].shape"
   ]
  },
  {
   "cell_type": "code",
   "execution_count": 293,
   "metadata": {},
   "outputs": [
    {
     "data": {
      "text/plain": [
       "tensor([[0.0028, 0.0709, 0.1280, 0.0709, 0.1280, 0.0709, 0.1280, 0.0709, 0.1280,\n",
       "         0.0709, 0.1280, 0.0027],\n",
       "        [0.0435, 0.0724, 0.1076, 0.0724, 0.1076, 0.0724, 0.1076, 0.0724, 0.1076,\n",
       "         0.0724, 0.1076, 0.0565],\n",
       "        [0.0708, 0.0497, 0.1173, 0.0497, 0.1173, 0.0497, 0.1173, 0.0497, 0.1173,\n",
       "         0.0497, 0.1173, 0.0944],\n",
       "        [0.0435, 0.0724, 0.1076, 0.0724, 0.1076, 0.0724, 0.1076, 0.0724, 0.1076,\n",
       "         0.0724, 0.1076, 0.0565],\n",
       "        [0.0708, 0.0497, 0.1173, 0.0497, 0.1173, 0.0497, 0.1173, 0.0497, 0.1173,\n",
       "         0.0497, 0.1173, 0.0944],\n",
       "        [0.0435, 0.0724, 0.1076, 0.0724, 0.1076, 0.0724, 0.1076, 0.0724, 0.1076,\n",
       "         0.0724, 0.1076, 0.0565],\n",
       "        [0.0708, 0.0497, 0.1173, 0.0497, 0.1173, 0.0497, 0.1173, 0.0497, 0.1173,\n",
       "         0.0497, 0.1173, 0.0944],\n",
       "        [0.0435, 0.0724, 0.1076, 0.0724, 0.1076, 0.0724, 0.1076, 0.0724, 0.1076,\n",
       "         0.0724, 0.1076, 0.0565],\n",
       "        [0.0708, 0.0497, 0.1173, 0.0497, 0.1173, 0.0497, 0.1173, 0.0497, 0.1173,\n",
       "         0.0497, 0.1173, 0.0944],\n",
       "        [0.0435, 0.0724, 0.1076, 0.0724, 0.1076, 0.0724, 0.1076, 0.0724, 0.1076,\n",
       "         0.0724, 0.1076, 0.0565],\n",
       "        [0.0708, 0.0497, 0.1173, 0.0497, 0.1173, 0.0497, 0.1173, 0.0497, 0.1173,\n",
       "         0.0497, 0.1173, 0.0944],\n",
       "        [0.0580, 0.1065, 0.0669, 0.1065, 0.0669, 0.1065, 0.0669, 0.1065, 0.0669,\n",
       "         0.1065, 0.0669, 0.0750]], device='cuda:0')"
      ]
     },
     "execution_count": 293,
     "metadata": {},
     "output_type": "execute_result"
    }
   ],
   "source": [
    "attn_matrix = attn_matrices[0][0]\n",
    "attn_matrix[0]"
   ]
  },
  {
   "cell_type": "code",
   "execution_count": 294,
   "metadata": {},
   "outputs": [],
   "source": [
    "from dataset.dataset import DyckLanguageTokenizer"
   ]
  },
  {
   "cell_type": "code",
   "execution_count": 295,
   "metadata": {},
   "outputs": [],
   "source": [
    "tokenizer = DyckLanguageTokenizer(VOCAB)"
   ]
  },
  {
   "cell_type": "code",
   "execution_count": 296,
   "metadata": {},
   "outputs": [],
   "source": [
    "labels = tokenizer.decode_single(tokens[0], remove_special_tokens=False).split(\" \")\n",
    "x_ticks = list(i for i in range(attn_matrices[0][0][0].shape[0]))\n",
    "y_ticks = list(i for i in range(attn_matrices[0][0][0].shape[1]))"
   ]
  },
  {
   "cell_type": "code",
   "execution_count": 297,
   "metadata": {},
   "outputs": [
    {
     "data": {
      "text/plain": [
       "10"
      ]
     },
     "execution_count": 297,
     "metadata": {},
     "output_type": "execute_result"
    }
   ],
   "source": [
    "len(strings[0])"
   ]
  },
  {
   "cell_type": "code",
   "execution_count": 278,
   "metadata": {},
   "outputs": [
    {
     "data": {
      "text/plain": [
       "torch.Size([12, 12])"
      ]
     },
     "execution_count": 278,
     "metadata": {},
     "output_type": "execute_result"
    }
   ],
   "source": [
    "attn_matrices[0][0][0].shape"
   ]
  },
  {
   "cell_type": "code",
   "execution_count": 298,
   "metadata": {},
   "outputs": [],
   "source": [
    "import numpy as np\n",
    "\n",
    "\n",
    "def z_score_normalize(matrix):\n",
    "    mean = np.mean(matrix)\n",
    "    std = np.std(matrix)\n",
    "    normalized_matrix = (matrix - mean) / std\n",
    "    return normalized_matrix\n",
    "\n",
    "\n",
    "def min_max_normalize(matrix):\n",
    "    min_val = np.min(matrix)\n",
    "    max_val = np.max(matrix)\n",
    "    normalized_matrix = (matrix - min_val) / (max_val - min_val)\n",
    "    return normalized_matrix"
   ]
  },
  {
   "cell_type": "code",
   "execution_count": 299,
   "metadata": {},
   "outputs": [
    {
     "data": {
      "image/png": "[encoded data removed]",
      "text/plain": [
       "<Figure size 1000x1000 with 2 Axes>"
      ]
     },
     "metadata": {},
     "output_type": "display_data"
    }
   ],
   "source": [
    "import matplotlib.pyplot as plt\n",
    "\n",
    "# plot heatmap of first attention matrix\n",
    "plt.figure(figsize=(10, 10))\n",
    "heatmap = plt.imshow(\n",
    "    min_max_normalize(attn_matrices[0][0][0].cpu().detach().numpy()),\n",
    "    cmap=\"coolwarm\",\n",
    "    interpolation=\"nearest\",\n",
    ")\n",
    "\n",
    "plt.xticks(ticks=x_ticks, labels=labels)\n",
    "plt.yticks(ticks=y_ticks, labels=labels)\n",
    "cbar = plt.colorbar(heatmap)\n",
    "cbar.set_label(\"Attention weights\")\n",
    "plt.show()"
   ]
  },
  {
   "cell_type": "code",
   "execution_count": 300,
   "metadata": {},
   "outputs": [],
   "source": [
    "minimax_norm = min_max_normalize(attn_matrices[0][0][0].cpu().detach().numpy())"
   ]
  },
  {
   "cell_type": "code",
   "execution_count": 302,
   "metadata": {},
   "outputs": [
    {
     "data": {
      "text/plain": [
       "0.5770061"
      ]
     },
     "execution_count": 302,
     "metadata": {},
     "output_type": "execute_result"
    }
   ],
   "source": [
    "minimax_norm[11][11]"
   ]
  },
  {
   "cell_type": "markdown",
   "metadata": {},
   "source": []
  }
 ],
 "metadata": {
  "kernelspec": {
   "display_name": "transformer-checker",
   "language": "python",
   "name": "python3"
  },
  "language_info": {
   "codemirror_mode": {
    "name": "ipython",
    "version": 3
   },
   "file_extension": ".py",
   "mimetype": "text/x-python",
   "name": "python",
   "nbconvert_exporter": "python",
   "pygments_lexer": "ipython3",
   "version": "3.10.14"
  }
 },
 "nbformat": 4,
 "nbformat_minor": 2
}
